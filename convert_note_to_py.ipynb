{
 "cells": [
  {
   "cell_type": "code",
   "execution_count": null,
   "id": "c7309c6e-78ce-4278-b63f-5d98d526f6a1",
   "metadata": {},
   "outputs": [],
   "source": [
    "import os\n",
    "import nbformat"
   ]
  },
  {
   "cell_type": "code",
   "execution_count": null,
   "id": "edbc3b73-cdea-4c2f-94ad-821821946d42",
   "metadata": {},
   "outputs": [],
   "source": [
    "def is_conversion_needed(notebook_path, output_path):\n",
    "    # If the .py file does not exist, we need to convert\n",
    "    if not os.path.isfile(output_path):\n",
    "        return True\n",
    "    # If the .ipynb file is newer than the .py file, we need to convert\n",
    "    return os.path.getmtime(notebook_path) > os.path.getmtime(output_path)"
   ]
  },
  {
   "cell_type": "code",
   "execution_count": null,
   "id": "b2f3074e-c194-409f-9f9a-9d6414a84b3e",
   "metadata": {},
   "outputs": [],
   "source": [
    "def should_skip_cell(cell):\n",
    "    return 'skip' in cell.metadata.get('tags', [])"
   ]
  },
  {
   "cell_type": "code",
   "execution_count": null,
   "id": "09e0cd40-685e-421f-bb44-68c2f2209cc9",
   "metadata": {},
   "outputs": [],
   "source": [
    "def ipynb_to_py(notebook_path):\n",
    "    # Construct the output path by replacing the .ipynb extension with .py\n",
    "    output_path = os.path.splitext(notebook_path)[0] + '.py'\n",
    "    if not is_conversion_needed(notebook_path, output_path):\n",
    "        return\n",
    "    \n",
    "    # Load the notebook\n",
    "    with open(notebook_path, 'r', encoding='utf-8') as fh:\n",
    "        nb = nbformat.read(fh, as_version=4)\n",
    "    \n",
    "    # Filter out only code cells\n",
    "    code_cells = [cell for cell in nb.cells\n",
    "                  if cell.cell_type == 'code' and not should_skip_cell(cell)]\n",
    "    \n",
    "    # Combine the code from all code cells into a single string\n",
    "    code = \"\\n\\n\\n\".join(cell.source for cell in code_cells)\n",
    "        \n",
    "    # Write the code to the output file\n",
    "    with open(output_path, 'w', encoding='utf-8') as code_file:\n",
    "        code_file.write(code)"
   ]
  },
  {
   "cell_type": "code",
   "execution_count": null,
   "id": "d8c60f66-4bfd-4532-8be5-9c7d54cde2f1",
   "metadata": {},
   "outputs": [],
   "source": [
    "def all_ipynb_to_py(start_path = '.'):\n",
    "    for root, dirs, files in os.walk(start_path):\n",
    "        for file in files:\n",
    "            if file.endswith('.ipynb'):\n",
    "                notebook_path = os.path.join(root, file)\n",
    "                ipynb_to_py(notebook_path)"
   ]
  },
  {
   "cell_type": "code",
   "execution_count": null,
   "id": "06cc829f-d879-491c-8a8c-ab834be7bc82",
   "metadata": {
    "tags": [
     "skip"
    ]
   },
   "outputs": [],
   "source": [
    "all_ipynb_to_py()"
   ]
  }
 ],
 "metadata": {
  "kernelspec": {
   "display_name": "Python 3",
   "language": "python",
   "name": "python3"
  },
  "language_info": {
   "codemirror_mode": {
    "name": "ipython",
    "version": 3
   },
   "file_extension": ".py",
   "mimetype": "text/x-python",
   "name": "python",
   "nbconvert_exporter": "python",
   "pygments_lexer": "ipython3",
   "version": "3.8.5"
  }
 },
 "nbformat": 4,
 "nbformat_minor": 5
}
