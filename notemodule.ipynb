{
 "cells": [
  {
   "cell_type": "markdown",
   "id": "0",
   "metadata": {},
   "source": [
    "__MODULE__"
   ]
  },
  {
   "cell_type": "code",
   "execution_count": null,
   "id": "1",
   "metadata": {},
   "outputs": [],
   "source": [
    "import os\n",
    "import nbformat\n",
    "import re"
   ]
  },
  {
   "cell_type": "markdown",
   "id": "2",
   "metadata": {},
   "source": [
    "Convert only if the notebook has been changed"
   ]
  },
  {
   "cell_type": "code",
   "execution_count": null,
   "id": "3",
   "metadata": {},
   "outputs": [],
   "source": [
    "def is_conversion_needed(notebook_path, output_path):\n",
    "    # If the .py file does not exist, we need to convert\n",
    "    if not os.path.isfile(output_path):\n",
    "        return True\n",
    "    # If the .ipynb file is newer than the .py file, we need to convert\n",
    "    return os.path.getmtime(notebook_path) > os.path.getmtime(output_path)"
   ]
  },
  {
   "cell_type": "markdown",
   "id": "4",
   "metadata": {},
   "source": [
    "Convert notebooks only if they are marked as a `__MODULE__`  \n",
    "Note: that in a normal notebook in a markdown cell `__MODULE__` may look like\n",
    "__MODULE__"
   ]
  },
  {
   "cell_type": "code",
   "execution_count": null,
   "id": "5",
   "metadata": {},
   "outputs": [],
   "source": [
    "def should_convernt_to_module(firstcell, moduleword = '__MODULE__'):\n",
    "    return bool(re.search(f'(?<!\\S)#?{moduleword}=?(?!\\S)', firstcell))\n",
    "\n",
    "\n",
    "def should_skip_cell(cell, skipwords='skip'):\n",
    "    if type(skipwords) is str:\n",
    "        skipwords = (skipwords,)\n",
    "    for a_skip_word in skipwords:\n",
    "        if a_skip_word in cell.metadata.get('tags', []):\n",
    "            return True\n",
    "    return False"
   ]
  },
  {
   "cell_type": "code",
   "execution_count": null,
   "id": "6",
   "metadata": {},
   "outputs": [],
   "source": [
    "def strip_lines_helper(text_lines):\n",
    "    for i, line in enumerate(text_lines):\n",
    "        if line.strip():\n",
    "            break\n",
    "    return i\n",
    "\n",
    "\n",
    "def strip_lines(text):\n",
    "    lines = text.splitlines()\n",
    "    if not lines:\n",
    "        return text\n",
    "    start = strip_lines_helper(lines)\n",
    "    finish = (-strip_lines_helper(lines[::-1]) or len(lines))\n",
    "    return '\\n'.join(lines[start:finish]) \n",
    "\n",
    "\n",
    "def comment_out(text):\n",
    "    return '\\n'.join([f'# {line}' for line in text.splitlines()])"
   ]
  },
  {
   "cell_type": "code",
   "execution_count": null,
   "id": "7",
   "metadata": {},
   "outputs": [],
   "source": [
    "def ipynb_to_py(notebook_path,\n",
    "                output_base_path='module', module_word='__MODULE__',\n",
    "                skipwords='skip', celltypes='*', dont_comment='code', code_sep='\\n\\n'):\n",
    "    \"\"\"\n",
    "    Processes the notebook at the given path.\n",
    "\n",
    "    Args:\n",
    "        notebook_path (str): A relative path to the input notebook file.\n",
    "\n",
    "    Note:\n",
    "        notebook_path must be a relative path. Absolute paths are not supported.\n",
    "    \"\"\"\n",
    "    assert not os.path.isabs(notebook_path), 'notebook_path must be relative'\n",
    "    # Construct the output path by replacing the .ipynb extension with .py\n",
    "    module_path = os.path.splitext(notebook_path)[0] + '.py'\n",
    "    if not is_conversion_needed(notebook_path, module_path):\n",
    "        return\n",
    "    \n",
    "    # Load the notebook\n",
    "    print(f'{notebook_path=}')\n",
    "    with open(notebook_path, 'r', encoding='utf-8') as fh:\n",
    "        nb = nbformat.read(fh, as_version=4)\n",
    "\n",
    "    if not should_convernt_to_module(nb.cells[0].source):\n",
    "        return\n",
    "    \n",
    "    if type(dont_comment) is str:\n",
    "        dont_comment = (dont_comment,)\n",
    "        \n",
    "    cells = [cell  \n",
    "             for cell in nb.cells\n",
    "             if not should_skip_cell(cell)\n",
    "             if (celltypes == '*') or (cell.cell_type in celltypes)]\n",
    "    \n",
    "    # Combine the code from all code cells into a single string\n",
    "    output_cells_texts = [strip_lines(cell.source) + code_sep\n",
    "                          if cell.cell_type in dont_comment else\n",
    "                          comment_out(strip_lines(cell.source))\n",
    "                          for cell in cells\n",
    "                          if cell.source.strip()]\n",
    "    output = f'# compiled from {notebook_path}\\n\\n'\n",
    "    output = \"\\n\".join(cell_text for cell_text in output_cells_texts)\n",
    "        \n",
    "    # Write the code to the output file\n",
    "    output_path = os.path.join(output_base_path, module_path)\n",
    "    os.makedirs(os.path.dirname(output_path), exist_ok=True)\n",
    "    with open(output_path, 'w', encoding='utf-8') as code_file:\n",
    "        code_file.write(output)"
   ]
  },
  {
   "cell_type": "code",
   "execution_count": null,
   "id": "8",
   "metadata": {},
   "outputs": [],
   "source": [
    "def all_ipynb_to_py(root_path='.', dest_path='module', init_py=True):\n",
    "    if init_py:\n",
    "        os.makedirs(dest_path, exist_ok=True)\n",
    "        init_file_path = os.path.join(dest_path, '__init__.py')\n",
    "        if os.path.exists(init_file_path):\n",
    "            os.remove(init_file_path)\n",
    "        with open(init_file_path, 'w') as f:\n",
    "            if type(init_py) is str: \n",
    "                f.write(init_py)\n",
    "    for root, dirs, files in os.walk(root_path):\n",
    "        dirs[:] = [a_dir for a_dir in dirs\n",
    "                   if not a_dir.startswith('.')\n",
    "                   if not a_dir == dest_path and root == root_path]            \n",
    "        relative_path = os.path.relpath(root, root_path)\n",
    "        files[:] = [a_file for a_file in files\n",
    "                    if a_file.endswith('.ipynb')]\n",
    "        for a_file in files:\n",
    "            notebook_path = os.path.join(root, a_file)\n",
    "            ipynb_to_py(notebook_path, dest_path)"
   ]
  },
  {
   "cell_type": "code",
   "execution_count": null,
   "id": "9",
   "metadata": {
    "tags": [
     "skip"
    ]
   },
   "outputs": [],
   "source": [
    "with open('__init__.py.template', 'r') as f:\n",
    "    INIT_PY = f.read()\n",
    "all_ipynb_to_py(dest_path='src/notemodule', init_py=INIT_PY)"
   ]
  }
 ],
 "metadata": {
  "kernelspec": {
   "display_name": "Python 3 (ipykernel)",
   "language": "python",
   "name": "python3"
  },
  "language_info": {
   "codemirror_mode": {
    "name": "ipython",
    "version": 3
   },
   "file_extension": ".py",
   "mimetype": "text/x-python",
   "name": "python",
   "nbconvert_exporter": "python",
   "pygments_lexer": "ipython3",
   "version": "3.11.9"
  }
 },
 "nbformat": 4,
 "nbformat_minor": 5
}
